{
 "cells": [
  {
   "cell_type": "markdown",
   "metadata": {},
   "source": [
    "# Analysis of Used Cars Dataset"
   ]
  },
  {
   "cell_type": "markdown",
   "metadata": {},
   "source": [
    "## Data Exploration and Cleaning"
   ]
  },
  {
   "cell_type": "code",
   "execution_count": 1,
   "metadata": {},
   "outputs": [
    {
     "name": "stderr",
     "output_type": "stream",
     "text": [
      "\n",
      "Attaching package: ‘dplyr’\n",
      "\n",
      "The following objects are masked from ‘package:stats’:\n",
      "\n",
      "    filter, lag\n",
      "\n",
      "The following objects are masked from ‘package:base’:\n",
      "\n",
      "    intersect, setdiff, setequal, union\n",
      "\n"
     ]
    }
   ],
   "source": [
    "library(dplyr)"
   ]
  },
  {
   "cell_type": "code",
   "execution_count": 2,
   "metadata": {},
   "outputs": [
    {
     "data": {
      "text/html": [
       "<table>\n",
       "<thead><tr><th scope=col>X</th><th scope=col>price</th><th scope=col>brand</th><th scope=col>model</th><th scope=col>year</th><th scope=col>title_status</th><th scope=col>mileage</th><th scope=col>color</th><th scope=col>vin</th><th scope=col>lot</th><th scope=col>state</th><th scope=col>country</th><th scope=col>condition</th></tr></thead>\n",
       "<tbody>\n",
       "\t<tr><td>0                  </td><td> 6300              </td><td>toyota             </td><td>cruiser            </td><td>2008               </td><td>clean vehicle      </td><td>274117             </td><td>black              </td><td>  jtezu11f88k007763</td><td>159348797          </td><td>new jersey         </td><td> usa               </td><td>10 days left       </td></tr>\n",
       "\t<tr><td>1                  </td><td> 2899              </td><td>ford               </td><td>se                 </td><td>2011               </td><td>clean vehicle      </td><td>190552             </td><td>silver             </td><td>  2fmdk3gc4bbb02217</td><td>166951262          </td><td>tennessee          </td><td> usa               </td><td>6 days left        </td></tr>\n",
       "\t<tr><td>2                  </td><td> 5350              </td><td>dodge              </td><td>mpv                </td><td>2018               </td><td>clean vehicle      </td><td> 39590             </td><td>silver             </td><td>  3c4pdcgg5jt346413</td><td>167655728          </td><td>georgia            </td><td> usa               </td><td>2 days left        </td></tr>\n",
       "\t<tr><td>3                  </td><td>25000              </td><td>ford               </td><td>door               </td><td>2014               </td><td>clean vehicle      </td><td> 64146             </td><td>blue               </td><td>  1ftfw1et4efc23745</td><td>167753855          </td><td>virginia           </td><td> usa               </td><td>22 hours left      </td></tr>\n",
       "\t<tr><td>4                  </td><td>27700              </td><td>chevrolet          </td><td>1500               </td><td>2018               </td><td>clean vehicle      </td><td>  6654             </td><td>red                </td><td>  3gcpcrec2jg473991</td><td>167763266          </td><td>florida            </td><td> usa               </td><td>22 hours left      </td></tr>\n",
       "\t<tr><td>5                  </td><td> 5700              </td><td>dodge              </td><td>mpv                </td><td>2018               </td><td>clean vehicle      </td><td> 45561             </td><td>white              </td><td>  2c4rdgeg9jr237989</td><td>167655771          </td><td>texas              </td><td> usa               </td><td>2 days left        </td></tr>\n",
       "</tbody>\n",
       "</table>\n"
      ],
      "text/latex": [
       "\\begin{tabular}{r|lllllllllllll}\n",
       " X & price & brand & model & year & title\\_status & mileage & color & vin & lot & state & country & condition\\\\\n",
       "\\hline\n",
       "\t 0                   &  6300               & toyota              & cruiser             & 2008                & clean vehicle       & 274117              & black               &   jtezu11f88k007763 & 159348797           & new jersey          &  usa                & 10 days left       \\\\\n",
       "\t 1                   &  2899               & ford                & se                  & 2011                & clean vehicle       & 190552              & silver              &   2fmdk3gc4bbb02217 & 166951262           & tennessee           &  usa                & 6 days left        \\\\\n",
       "\t 2                   &  5350               & dodge               & mpv                 & 2018                & clean vehicle       &  39590              & silver              &   3c4pdcgg5jt346413 & 167655728           & georgia             &  usa                & 2 days left        \\\\\n",
       "\t 3                   & 25000               & ford                & door                & 2014                & clean vehicle       &  64146              & blue                &   1ftfw1et4efc23745 & 167753855           & virginia            &  usa                & 22 hours left      \\\\\n",
       "\t 4                   & 27700               & chevrolet           & 1500                & 2018                & clean vehicle       &   6654              & red                 &   3gcpcrec2jg473991 & 167763266           & florida             &  usa                & 22 hours left      \\\\\n",
       "\t 5                   &  5700               & dodge               & mpv                 & 2018                & clean vehicle       &  45561              & white               &   2c4rdgeg9jr237989 & 167655771           & texas               &  usa                & 2 days left        \\\\\n",
       "\\end{tabular}\n"
      ],
      "text/markdown": [
       "\n",
       "| X | price | brand | model | year | title_status | mileage | color | vin | lot | state | country | condition |\n",
       "|---|---|---|---|---|---|---|---|---|---|---|---|---|\n",
       "| 0                   |  6300               | toyota              | cruiser             | 2008                | clean vehicle       | 274117              | black               |   jtezu11f88k007763 | 159348797           | new jersey          |  usa                | 10 days left        |\n",
       "| 1                   |  2899               | ford                | se                  | 2011                | clean vehicle       | 190552              | silver              |   2fmdk3gc4bbb02217 | 166951262           | tennessee           |  usa                | 6 days left         |\n",
       "| 2                   |  5350               | dodge               | mpv                 | 2018                | clean vehicle       |  39590              | silver              |   3c4pdcgg5jt346413 | 167655728           | georgia             |  usa                | 2 days left         |\n",
       "| 3                   | 25000               | ford                | door                | 2014                | clean vehicle       |  64146              | blue                |   1ftfw1et4efc23745 | 167753855           | virginia            |  usa                | 22 hours left       |\n",
       "| 4                   | 27700               | chevrolet           | 1500                | 2018                | clean vehicle       |   6654              | red                 |   3gcpcrec2jg473991 | 167763266           | florida             |  usa                | 22 hours left       |\n",
       "| 5                   |  5700               | dodge               | mpv                 | 2018                | clean vehicle       |  45561              | white               |   2c4rdgeg9jr237989 | 167655771           | texas               |  usa                | 2 days left         |\n",
       "\n"
      ],
      "text/plain": [
       "  X price brand     model   year title_status  mileage color \n",
       "1 0  6300 toyota    cruiser 2008 clean vehicle 274117  black \n",
       "2 1  2899 ford      se      2011 clean vehicle 190552  silver\n",
       "3 2  5350 dodge     mpv     2018 clean vehicle  39590  silver\n",
       "4 3 25000 ford      door    2014 clean vehicle  64146  blue  \n",
       "5 4 27700 chevrolet 1500    2018 clean vehicle   6654  red   \n",
       "6 5  5700 dodge     mpv     2018 clean vehicle  45561  white \n",
       "  vin                 lot       state      country condition    \n",
       "1   jtezu11f88k007763 159348797 new jersey  usa    10 days left \n",
       "2   2fmdk3gc4bbb02217 166951262 tennessee   usa    6 days left  \n",
       "3   3c4pdcgg5jt346413 167655728 georgia     usa    2 days left  \n",
       "4   1ftfw1et4efc23745 167753855 virginia    usa    22 hours left\n",
       "5   3gcpcrec2jg473991 167763266 florida     usa    22 hours left\n",
       "6   2c4rdgeg9jr237989 167655771 texas       usa    2 days left  "
      ]
     },
     "metadata": {},
     "output_type": "display_data"
    }
   ],
   "source": [
    "# Import data.\n",
    "\n",
    "# @hidden_cell\n",
    "# The following code accesses a file in your IBM Cloud Object Storage. It includes your credentials.\n",
    "# You might want to remove those credentials before you share the notebook.\n",
    "\n",
    "library(\"aws.s3\")\n",
    "obj <- get_object(\n",
    "    object = \"USA_cars_datasets.csv\",\n",
    "    bucket = \"analyzingusedcarsdata-donotdelete-pr-rxmrstnfibbf2r\",\n",
    "    key = \"232b94b72a34480b93deebb80fdab40e\",\n",
    "    secret = \"b407316a2d427eddd34abeb578b85d8e5ab484e1a1218cd4\",\n",
    "    check_region = FALSE,\n",
    "    base_url = \"s3-api.us-geo.objectstorage.service.networklayer.com\")\n",
    "\n",
    "cars <- read.csv(text = rawToChar(obj))\n",
    "head(cars)\n"
   ]
  },
  {
   "cell_type": "code",
   "execution_count": 3,
   "metadata": {},
   "outputs": [
    {
     "name": "stdout",
     "output_type": "stream",
     "text": [
      "'data.frame':\t2499 obs. of  13 variables:\n",
      " $ X           : int  0 1 2 3 4 5 6 7 8 9 ...\n",
      " $ price       : int  6300 2899 5350 25000 27700 5700 7300 13350 14600 5250 ...\n",
      " $ brand       : Factor w/ 28 levels \"acura\",\"audi\",..: 28 9 8 9 6 8 6 10 6 9 ...\n",
      " $ model       : Factor w/ 127 levels \"1500\",\"2500\",..: 26 93 76 33 1 76 87 33 72 76 ...\n",
      " $ year        : int  2008 2011 2018 2014 2018 2018 2010 2017 2018 2017 ...\n",
      " $ title_status: Factor w/ 2 levels \"clean vehicle\",..: 1 1 1 1 1 1 1 1 1 1 ...\n",
      " $ mileage     : num  274117 190552 39590 64146 6654 ...\n",
      " $ color       : Factor w/ 49 levels \"beige\",\"billet silver metallic clearcoat\",..: 3 40 40 5 35 47 3 16 40 3 ...\n",
      " $ vin         : Factor w/ 2495 levels \"  19uua96529a004646\",..: 2393 1666 1886 968 2088 1650 1194 1239 1123 1706 ...\n",
      " $ lot         : int  159348797 166951262 167655728 167753855 167763266 167655771 167753872 167692494 167763267 167656121 ...\n",
      " $ state       : Factor w/ 44 levels \"alabama\",\"arizona\",..: 25 36 8 40 7 37 8 4 7 37 ...\n",
      " $ country     : Factor w/ 2 levels \" canada\",\" usa\": 2 2 2 2 2 2 2 2 2 2 ...\n",
      " $ condition   : Factor w/ 47 levels \"1 days left\",..: 4 40 17 21 21 17 21 19 21 17 ...\n"
     ]
    }
   ],
   "source": [
    "# View the kind of variables in the dataset.\n",
    "\n",
    "str(cars)"
   ]
  },
  {
   "cell_type": "code",
   "execution_count": 4,
   "metadata": {},
   "outputs": [
    {
     "data": {
      "text/html": [
       "<table>\n",
       "<thead><tr><th scope=col>price</th><th scope=col>brand</th><th scope=col>model</th><th scope=col>year</th><th scope=col>title_status</th><th scope=col>mileage</th><th scope=col>color</th><th scope=col>state</th><th scope=col>country</th></tr></thead>\n",
       "<tbody>\n",
       "\t<tr><td> 6300        </td><td>toyota       </td><td>cruiser      </td><td>2008         </td><td>clean vehicle</td><td>274117       </td><td>black        </td><td>new jersey   </td><td> usa         </td></tr>\n",
       "\t<tr><td> 2899        </td><td>ford         </td><td>se           </td><td>2011         </td><td>clean vehicle</td><td>190552       </td><td>silver       </td><td>tennessee    </td><td> usa         </td></tr>\n",
       "\t<tr><td> 5350        </td><td>dodge        </td><td>mpv          </td><td>2018         </td><td>clean vehicle</td><td> 39590       </td><td>silver       </td><td>georgia      </td><td> usa         </td></tr>\n",
       "\t<tr><td>25000        </td><td>ford         </td><td>door         </td><td>2014         </td><td>clean vehicle</td><td> 64146       </td><td>blue         </td><td>virginia     </td><td> usa         </td></tr>\n",
       "\t<tr><td>27700        </td><td>chevrolet    </td><td>1500         </td><td>2018         </td><td>clean vehicle</td><td>  6654       </td><td>red          </td><td>florida      </td><td> usa         </td></tr>\n",
       "\t<tr><td> 5700        </td><td>dodge        </td><td>mpv          </td><td>2018         </td><td>clean vehicle</td><td> 45561       </td><td>white        </td><td>texas        </td><td> usa         </td></tr>\n",
       "</tbody>\n",
       "</table>\n"
      ],
      "text/latex": [
       "\\begin{tabular}{r|lllllllll}\n",
       " price & brand & model & year & title\\_status & mileage & color & state & country\\\\\n",
       "\\hline\n",
       "\t  6300         & toyota        & cruiser       & 2008          & clean vehicle & 274117        & black         & new jersey    &  usa         \\\\\n",
       "\t  2899         & ford          & se            & 2011          & clean vehicle & 190552        & silver        & tennessee     &  usa         \\\\\n",
       "\t  5350         & dodge         & mpv           & 2018          & clean vehicle &  39590        & silver        & georgia       &  usa         \\\\\n",
       "\t 25000         & ford          & door          & 2014          & clean vehicle &  64146        & blue          & virginia      &  usa         \\\\\n",
       "\t 27700         & chevrolet     & 1500          & 2018          & clean vehicle &   6654        & red           & florida       &  usa         \\\\\n",
       "\t  5700         & dodge         & mpv           & 2018          & clean vehicle &  45561        & white         & texas         &  usa         \\\\\n",
       "\\end{tabular}\n"
      ],
      "text/markdown": [
       "\n",
       "| price | brand | model | year | title_status | mileage | color | state | country |\n",
       "|---|---|---|---|---|---|---|---|---|\n",
       "|  6300         | toyota        | cruiser       | 2008          | clean vehicle | 274117        | black         | new jersey    |  usa          |\n",
       "|  2899         | ford          | se            | 2011          | clean vehicle | 190552        | silver        | tennessee     |  usa          |\n",
       "|  5350         | dodge         | mpv           | 2018          | clean vehicle |  39590        | silver        | georgia       |  usa          |\n",
       "| 25000         | ford          | door          | 2014          | clean vehicle |  64146        | blue          | virginia      |  usa          |\n",
       "| 27700         | chevrolet     | 1500          | 2018          | clean vehicle |   6654        | red           | florida       |  usa          |\n",
       "|  5700         | dodge         | mpv           | 2018          | clean vehicle |  45561        | white         | texas         |  usa          |\n",
       "\n"
      ],
      "text/plain": [
       "  price brand     model   year title_status  mileage color  state      country\n",
       "1  6300 toyota    cruiser 2008 clean vehicle 274117  black  new jersey  usa   \n",
       "2  2899 ford      se      2011 clean vehicle 190552  silver tennessee   usa   \n",
       "3  5350 dodge     mpv     2018 clean vehicle  39590  silver georgia     usa   \n",
       "4 25000 ford      door    2014 clean vehicle  64146  blue   virginia    usa   \n",
       "5 27700 chevrolet 1500    2018 clean vehicle   6654  red    florida     usa   \n",
       "6  5700 dodge     mpv     2018 clean vehicle  45561  white  texas       usa   "
      ]
     },
     "metadata": {},
     "output_type": "display_data"
    }
   ],
   "source": [
    "# Remove unnecessary columns.\n",
    "\n",
    "cars <- subset(cars, select = -c(X, vin, lot, condition))\n",
    "head(cars)"
   ]
  },
  {
   "cell_type": "code",
   "execution_count": 5,
   "metadata": {},
   "outputs": [
    {
     "data": {
      "text/plain": [
       "   Min. 1st Qu.  Median    Mean 3rd Qu.    Max. \n",
       "      0   10200   16900   18768   25556   84900 "
      ]
     },
     "metadata": {},
     "output_type": "display_data"
    },
    {
     "data": {
      "text/plain": [
       "   Min. 1st Qu.  Median    Mean 3rd Qu.    Max. \n",
       "      0   21466   35365   52299   63472 1017936 "
      ]
     },
     "metadata": {},
     "output_type": "display_data"
    },
    {
     "data": {
      "text/plain": [
       "   Min. 1st Qu.  Median    Mean 3rd Qu.    Max. \n",
       "   1973    2016    2018    2017    2019    2020 "
      ]
     },
     "metadata": {},
     "output_type": "display_data"
    },
    {
     "name": "stdout",
     "output_type": "stream",
     "text": [
      "[1] \"Price statistics is the first row, then mileage, and year\"\n"
     ]
    }
   ],
   "source": [
    "# Display descriptive statistics.\n",
    "\n",
    "summary(cars$price)\n",
    "summary(cars$mileage)\n",
    "summary(cars$year)\n",
    "print('Price statistics is the first row, then mileage, and year')"
   ]
  },
  {
   "cell_type": "markdown",
   "metadata": {},
   "source": [
    "#### Notice how the minimum value of price and mileage is 0. Something is wrong so, we are going to investigate how many observations have a price value of $0."
   ]
  },
  {
   "cell_type": "code",
   "execution_count": 6,
   "metadata": {},
   "outputs": [
    {
     "data": {
      "text/html": [
       "43"
      ],
      "text/latex": [
       "43"
      ],
      "text/markdown": [
       "43"
      ],
      "text/plain": [
       "[1] 43"
      ]
     },
     "metadata": {},
     "output_type": "display_data"
    }
   ],
   "source": [
    "zero_price <- subset(cars, price == 0, select = c(price))\n",
    "nrow(zero_price)"
   ]
  },
  {
   "cell_type": "code",
   "execution_count": 7,
   "metadata": {},
   "outputs": [
    {
     "data": {
      "text/plain": [
       "   Min. 1st Qu.  Median    Mean 3rd Qu.    Max. \n",
       "     25   10800   17347   19091   25556   84900 "
      ]
     },
     "metadata": {},
     "output_type": "display_data"
    }
   ],
   "source": [
    "# Since there are 43 observations with a price value of $0, we are going to replace that value with the average price.\n",
    "\n",
    "cars$price[which(cars$price == 0)] <- mean(cars$price)\n",
    "summary(cars$price)"
   ]
  },
  {
   "cell_type": "markdown",
   "metadata": {},
   "source": [
    "#### I have successfully replaced the price of each car with an initial value of 0, with the average price of the car from the dataset. I will continue with the analysis of my new dataset which contains 2,499 rows and 9 columns."
   ]
  },
  {
   "cell_type": "markdown",
   "metadata": {},
   "source": [
    "## Exploratory Data Analysis"
   ]
  },
  {
   "cell_type": "code",
   "execution_count": 8,
   "metadata": {},
   "outputs": [
    {
     "name": "stderr",
     "output_type": "stream",
     "text": [
      "Registered S3 methods overwritten by 'ggplot2':\n",
      "  method         from \n",
      "  [.quosures     rlang\n",
      "  c.quosures     rlang\n",
      "  print.quosures rlang\n"
     ]
    }
   ],
   "source": [
    "library(ggplot2)"
   ]
  },
  {
   "cell_type": "code",
   "execution_count": 19,
   "metadata": {},
   "outputs": [
    {
     "data": {
      "image/png": "[encoded data removed]",
      "text/plain": [
       "Plot with title “Distribution of Prices”"
      ]
     },
     "metadata": {},
     "output_type": "display_data"
    }
   ],
   "source": [
    "# Let's plot the distribution of prices.\n",
    "\n",
    "hist(cars$price, main = 'Distribution of Prices', xlab = 'Price')"
   ]
  },
  {
   "cell_type": "code",
   "execution_count": 36,
   "metadata": {},
   "outputs": [
    {
     "name": "stdout",
     "output_type": "stream",
     "text": [
      "'data.frame':\t28 obs. of  2 variables:\n",
      " $ Brand: Factor w/ 28 levels \"ford\",\"dodge\",..: 1 2 3 4 5 6 7 8 9 10 ...\n",
      " $ Count: int  1235 432 312 297 42 30 18 17 15 13 ...\n"
     ]
    },
    {
     "data": {
      "text/html": [
       "<table>\n",
       "<thead><tr><th scope=col>Brand</th><th scope=col>Count</th></tr></thead>\n",
       "<tbody>\n",
       "\t<tr><td>ford     </td><td>1235     </td></tr>\n",
       "\t<tr><td>dodge    </td><td> 432     </td></tr>\n",
       "\t<tr><td>nissan   </td><td> 312     </td></tr>\n",
       "\t<tr><td>chevrolet</td><td> 297     </td></tr>\n",
       "\t<tr><td>gmc      </td><td>  42     </td></tr>\n",
       "</tbody>\n",
       "</table>\n"
      ],
      "text/latex": [
       "\\begin{tabular}{r|ll}\n",
       " Brand & Count\\\\\n",
       "\\hline\n",
       "\t ford      & 1235     \\\\\n",
       "\t dodge     &  432     \\\\\n",
       "\t nissan    &  312     \\\\\n",
       "\t chevrolet &  297     \\\\\n",
       "\t gmc       &   42     \\\\\n",
       "\\end{tabular}\n"
      ],
      "text/markdown": [
       "\n",
       "| Brand | Count |\n",
       "|---|---|\n",
       "| ford      | 1235      |\n",
       "| dodge     |  432      |\n",
       "| nissan    |  312      |\n",
       "| chevrolet |  297      |\n",
       "| gmc       |   42      |\n",
       "\n"
      ],
      "text/plain": [
       "  Brand     Count\n",
       "1 ford      1235 \n",
       "2 dodge      432 \n",
       "3 nissan     312 \n",
       "4 chevrolet  297 \n",
       "5 gmc         42 "
      ]
     },
     "metadata": {},
     "output_type": "display_data"
    }
   ],
   "source": [
    "# Find the top brands in descending order.\n",
    "\n",
    "top_brands <- sort(table(cars$brand), decreasing = TRUE)\n",
    "top_brands_df <- as.data.frame(top_brands)                # Converting table into a dataframe.\n",
    "colnames(top_brands_df) <- c('Brand', 'Count')\n",
    "str(top_brands_df)\n",
    "head(top_brands_df, n = 5)"
   ]
  },
  {
   "cell_type": "code",
   "execution_count": 42,
   "metadata": {},
   "outputs": [
    {
     "data": {
      "text/html": [
       "<table>\n",
       "<thead><tr><th scope=col>Brand</th><th scope=col>Count</th></tr></thead>\n",
       "<tbody>\n",
       "\t<tr><td>ford     </td><td>1235     </td></tr>\n",
       "\t<tr><td>dodge    </td><td> 432     </td></tr>\n",
       "\t<tr><td>nissan   </td><td> 312     </td></tr>\n",
       "\t<tr><td>chevrolet</td><td> 297     </td></tr>\n",
       "\t<tr><td>gmc      </td><td>  42     </td></tr>\n",
       "</tbody>\n",
       "</table>\n"
      ],
      "text/latex": [
       "\\begin{tabular}{r|ll}\n",
       " Brand & Count\\\\\n",
       "\\hline\n",
       "\t ford      & 1235     \\\\\n",
       "\t dodge     &  432     \\\\\n",
       "\t nissan    &  312     \\\\\n",
       "\t chevrolet &  297     \\\\\n",
       "\t gmc       &   42     \\\\\n",
       "\\end{tabular}\n"
      ],
      "text/markdown": [
       "\n",
       "| Brand | Count |\n",
       "|---|---|\n",
       "| ford      | 1235      |\n",
       "| dodge     |  432      |\n",
       "| nissan    |  312      |\n",
       "| chevrolet |  297      |\n",
       "| gmc       |   42      |\n",
       "\n"
      ],
      "text/plain": [
       "  Brand     Count\n",
       "1 ford      1235 \n",
       "2 dodge      432 \n",
       "3 nissan     312 \n",
       "4 chevrolet  297 \n",
       "5 gmc         42 "
      ]
     },
     "metadata": {},
     "output_type": "display_data"
    }
   ],
   "source": [
    "# Top 5 brands dataframe\n",
    "\n",
    "top_5_brands <- top_brands_df[1:5, ]\n",
    "top_5_brands"
   ]
  },
  {
   "cell_type": "code",
   "execution_count": 45,
   "metadata": {},
   "outputs": [
    {
     "data": {
      "image/png": "[encoded data removed]",
      "text/plain": [
       "Plot with title “Top 5 Brands”"
      ]
     },
     "metadata": {},
     "output_type": "display_data"
    }
   ],
   "source": [
    "# Top 5 brands bar chart\n",
    "\n",
    "barplot(top_5_brands$Count, main = 'Top 5 Brands', xlab = 'Brands', ylab = 'Number of Cars', \n",
    "        names.arg = c('Ford', 'Dodge', 'Nissan', 'Chrevolet', 'Gmc'))"
   ]
  },
  {
   "cell_type": "code",
   "execution_count": 28,
   "metadata": {},
   "outputs": [
    {
     "data": {
      "image/png": "[encoded data removed]",
      "text/plain": [
       "plot without title"
      ]
     },
     "metadata": {},
     "output_type": "display_data"
    }
   ],
   "source": [
    "# Let's visualize the average price of the top 5 brands.\n",
    "\n",
    "top_brands <- cars[which(cars$brand == 'ford' | cars$brand ==  'dodge' | cars$brand == 'nissan' | cars$brand == 'chevrolet' | cars$brand == 'gmc'), ]\n",
    "\n",
    "ggplot(data = top_brands, aes(x = brand, y = price)) + \n",
    "    geom_boxplot() + \n",
    "    xlab('Top Brands') + \n",
    "    ylab('Price') + \n",
    "    ggtitle('Boxplot Comparison of Each Brand')"
   ]
  },
  {
   "cell_type": "code",
   "execution_count": 10,
   "metadata": {},
   "outputs": [
    {
     "data": {
      "image/png": "[encoded data removed]",
      "text/plain": [
       "plot without title"
      ]
     },
     "metadata": {},
     "output_type": "display_data"
    }
   ],
   "source": [
    "# Scatterplot of Price vs. Year\n",
    "\n",
    "ggplot(data = cars, aes(x = year, y = price)) + \n",
    "    geom_point() +\n",
    "    xlab('Year') +\n",
    "    ylab('Price') +\n",
    "    ggtitle('Prive Vs. Year')"
   ]
  },
  {
   "cell_type": "code",
   "execution_count": 13,
   "metadata": {},
   "outputs": [
    {
     "data": {
      "image/png": "[encoded data removed]",
      "text/plain": [
       "plot without title"
      ]
     },
     "metadata": {},
     "output_type": "display_data"
    }
   ],
   "source": [
    "# Scatterplot of Mileage and Price\n",
    "\n",
    "ggplot(data = cars, aes(x = mileage, y = price)) + \n",
    "    geom_point() +\n",
    "    xlab('Mileage') +\n",
    "    ylab('Price') +\n",
    "    ggtitle('Prive Vs. Year')"
   ]
  },
  {
   "cell_type": "code",
   "execution_count": 20,
   "metadata": {},
   "outputs": [
    {
     "data": {
      "text/html": [
       "<table>\n",
       "<thead><tr><th></th><th scope=col>price</th><th scope=col>mileage</th><th scope=col>year</th></tr></thead>\n",
       "<tbody>\n",
       "\t<tr><th scope=row>price</th><td> 1.00</td><td>-0.35</td><td> 0.33</td></tr>\n",
       "\t<tr><th scope=row>mileage</th><td>-0.35</td><td> 1.00</td><td>-0.59</td></tr>\n",
       "\t<tr><th scope=row>year</th><td> 0.33</td><td>-0.59</td><td> 1.00</td></tr>\n",
       "</tbody>\n",
       "</table>\n"
      ],
      "text/latex": [
       "\\begin{tabular}{r|lll}\n",
       "  & price & mileage & year\\\\\n",
       "\\hline\n",
       "\tprice &  1.00 & -0.35 &  0.33\\\\\n",
       "\tmileage & -0.35 &  1.00 & -0.59\\\\\n",
       "\tyear &  0.33 & -0.59 &  1.00\\\\\n",
       "\\end{tabular}\n"
      ],
      "text/markdown": [
       "\n",
       "| <!--/--> | price | mileage | year |\n",
       "|---|---|---|---|\n",
       "| price |  1.00 | -0.35 |  0.33 |\n",
       "| mileage | -0.35 |  1.00 | -0.59 |\n",
       "| year |  0.33 | -0.59 |  1.00 |\n",
       "\n"
      ],
      "text/plain": [
       "        price mileage year \n",
       "price    1.00 -0.35    0.33\n",
       "mileage -0.35  1.00   -0.59\n",
       "year     0.33 -0.59    1.00"
      ]
     },
     "metadata": {},
     "output_type": "display_data"
    }
   ],
   "source": [
    "# Correlation Matrix\n",
    "\n",
    "numeric_col <- subset(cars, select = c(price, mileage, year))\n",
    "round(cor(numeric_col), 2)"
   ]
  },
  {
   "cell_type": "markdown",
   "metadata": {},
   "source": [
    "#### Since the correlation between mileage, year versus price isn't high, I don't expect the regression model to obtain a high R-Square value."
   ]
  },
  {
   "cell_type": "markdown",
   "metadata": {},
   "source": [
    "## Regression Model"
   ]
  },
  {
   "cell_type": "code",
   "execution_count": 25,
   "metadata": {},
   "outputs": [
    {
     "data": {
      "text/plain": [
       "\n",
       "Call:\n",
       "lm(formula = price ~ mileage + year, data = cars)\n",
       "\n",
       "Residuals:\n",
       "   Min     1Q Median     3Q    Max \n",
       "-23331  -7717  -1986   5485  64327 \n",
       "\n",
       "Coefficients:\n",
       "              Estimate Std. Error t value Pr(>|t|)    \n",
       "(Intercept) -1.265e+06  1.599e+05  -7.907 3.93e-15 ***\n",
       "mileage     -4.815e-02  4.569e-03 -10.540  < 2e-16 ***\n",
       "year         6.378e+02  7.923e+01   8.049 1.28e-15 ***\n",
       "---\n",
       "Signif. codes:  0 ‘***’ 0.001 ‘**’ 0.01 ‘*’ 0.05 ‘.’ 0.1 ‘ ’ 1\n",
       "\n",
       "Residual standard error: 10960 on 2496 degrees of freedom\n",
       "Multiple R-squared:  0.1464,\tAdjusted R-squared:  0.1458 \n",
       "F-statistic: 214.1 on 2 and 2496 DF,  p-value: < 2.2e-16\n"
      ]
     },
     "metadata": {},
     "output_type": "display_data"
    }
   ],
   "source": [
    "# Regression model with Mileage and Year as predictors.\n",
    "\n",
    "lm.fit1 <- lm(price ~ mileage + year, data = cars)\n",
    "summary(lm.fit1)"
   ]
  },
  {
   "cell_type": "markdown",
   "metadata": {},
   "source": [
    "#### My prediction of the R-Square value is correct. There wasn't a high correlation to begin with, which is why I expected a low R-Square score."
   ]
  },
  {
   "cell_type": "code",
   "execution_count": 26,
   "metadata": {},
   "outputs": [
    {
     "data": {
      "text/plain": [
       "\n",
       "Call:\n",
       "lm(formula = price ~ brand + mileage + year, data = cars)\n",
       "\n",
       "Residuals:\n",
       "   Min     1Q Median     3Q    Max \n",
       "-51177  -6237  -1559   4463  54300 \n",
       "\n",
       "Coefficients:\n",
       "                       Estimate Std. Error t value Pr(>|t|)    \n",
       "(Intercept)          -1.251e+06  1.561e+05  -8.017 1.66e-15 ***\n",
       "brandaudi             1.069e+04  7.655e+03   1.396  0.16284    \n",
       "brandbmw              1.309e+04  6.283e+03   2.084  0.03730 *  \n",
       "brandbuick            5.165e+03  6.430e+03   0.803  0.42186    \n",
       "brandcadillac         1.166e+04  6.605e+03   1.765  0.07769 .  \n",
       "brandchevrolet        5.314e+03  5.824e+03   0.912  0.36163    \n",
       "brandchrysler         6.561e+02  6.256e+03   0.105  0.91648    \n",
       "branddodge            1.452e+03  5.821e+03   0.249  0.80300    \n",
       "brandford             6.351e+03  5.806e+03   1.094  0.27410    \n",
       "brandgmc             -2.463e+03  5.996e+03  -0.411  0.68124    \n",
       "brandharley-davidson  3.691e+04  1.158e+04   3.187  0.00146 ** \n",
       "brandheartland       -9.128e+03  7.338e+03  -1.244  0.21360    \n",
       "brandhonda           -3.895e+03  6.474e+03  -0.602  0.54743    \n",
       "brandhyundai         -1.050e+04  6.353e+03  -1.653  0.09851 .  \n",
       "brandinfiniti        -5.435e+03  6.489e+03  -0.838  0.40233    \n",
       "brandjaguar          -1.615e+04  1.158e+04  -1.394  0.16334    \n",
       "brandjeep            -5.893e+03  6.084e+03  -0.969  0.33285    \n",
       "brandkia             -2.549e+03  6.430e+03  -0.396  0.69185    \n",
       "brandland             1.094e+04  7.669e+03   1.426  0.15390    \n",
       "brandlexus            1.468e+04  9.162e+03   1.602  0.10926    \n",
       "brandlincoln          1.495e+04  9.153e+03   1.633  0.10259    \n",
       "brandmaserati         1.362e+04  1.158e+04   1.176  0.23966    \n",
       "brandmazda            6.392e+03  9.150e+03   0.699  0.48489    \n",
       "brandmercedes-benz    1.319e+04  6.609e+03   1.995  0.04614 *  \n",
       "brandnissan          -4.646e+03  5.830e+03  -0.797  0.42557    \n",
       "brandpeterbilt        3.543e+04  8.223e+03   4.308 1.71e-05 ***\n",
       "brandram             -6.044e+03  1.158e+04  -0.522  0.60177    \n",
       "brandtoyota           1.012e+04  1.159e+04   0.873  0.38264    \n",
       "mileage              -6.256e-02  4.931e-03 -12.688  < 2e-16 ***\n",
       "year                  6.299e+02  7.741e+01   8.136 6.38e-16 ***\n",
       "---\n",
       "Signif. codes:  0 ‘***’ 0.001 ‘**’ 0.01 ‘*’ 0.05 ‘.’ 0.1 ‘ ’ 1\n",
       "\n",
       "Residual standard error: 10020 on 2469 degrees of freedom\n",
       "Multiple R-squared:  0.2941,\tAdjusted R-squared:  0.2858 \n",
       "F-statistic: 35.47 on 29 and 2469 DF,  p-value: < 2.2e-16\n"
      ]
     },
     "metadata": {},
     "output_type": "display_data"
    }
   ],
   "source": [
    "# Regression model with Mileage, Year and Brand as predictors.\n",
    "\n",
    "lm.fit2 <- lm(price ~ brand + mileage + year, data = cars)\n",
    "summary(lm.fit2)"
   ]
  },
  {
   "cell_type": "code",
   "execution_count": 27,
   "metadata": {},
   "outputs": [
    {
     "data": {
      "text/plain": [
       "\n",
       "Call:\n",
       "lm(formula = price ~ ., data = cars)\n",
       "\n",
       "Residuals:\n",
       "   Min     1Q Median     3Q    Max \n",
       "-31466  -3298    -78   2249  38278 \n",
       "\n",
       "Coefficients: (7 not defined because of singularities)\n",
       "                                               Estimate Std. Error t value\n",
       "(Intercept)                                  -3.598e+05  1.468e+05  -2.451\n",
       "brandaudi                                     1.087e+04  6.796e+03   1.600\n",
       "brandbmw                                      6.554e+03  5.588e+03   1.173\n",
       "brandbuick                                    1.002e+04  5.429e+03   1.845\n",
       "brandcadillac                                 1.461e+04  5.485e+03   2.663\n",
       "brandchevrolet                                7.043e+03  4.860e+03   1.449\n",
       "brandchrysler                                -2.079e+02  5.341e+03  -0.039\n",
       "branddodge                                    2.363e+03  4.869e+03   0.485\n",
       "brandford                                     8.091e+03  4.831e+03   1.675\n",
       "brandgmc                                      2.281e+03  4.993e+03   0.457\n",
       "brandharley-davidson                          3.135e+04  8.449e+03   3.710\n",
       "brandheartland                               -1.807e+04  8.429e+03  -2.144\n",
       "brandhonda                                    1.284e+03  5.241e+03   0.245\n",
       "brandhyundai                                 -3.920e+03  5.263e+03  -0.745\n",
       "brandinfiniti                                 1.009e+04  5.352e+03   1.886\n",
       "brandjaguar                                  -7.425e+03  8.382e+03  -0.886\n",
       "brandjeep                                     1.021e+03  5.134e+03   0.199\n",
       "brandkia                                      2.278e+02  5.945e+03   0.038\n",
       "brandland                                     6.583e+03  6.411e+03   1.027\n",
       "brandlexus                                    5.374e+03  8.398e+03   0.640\n",
       "brandlincoln                                  1.126e+04  8.470e+03   1.329\n",
       "brandmaserati                                 1.079e+04  8.426e+03   1.281\n",
       "brandmazda                                    1.246e+04  8.562e+03   1.456\n",
       "brandmercedes-benz                            7.505e+03  6.229e+03   1.205\n",
       "brandnissan                                  -1.369e+03  4.907e+03  -0.279\n",
       "brandpeterbilt                                1.659e+04  6.528e+03   2.541\n",
       "brandram                                      2.675e+03  8.376e+03   0.319\n",
       "brandtoyota                                  -2.276e+03  8.467e+03  -0.269\n",
       "model2500                                     7.841e+03  2.684e+03   2.921\n",
       "model2500hd                                   8.744e+03  7.041e+03   1.242\n",
       "model300                                     -1.084e+03  3.909e+03  -0.277\n",
       "model3500                                     1.178e+04  3.606e+03   3.267\n",
       "model5                                        2.721e+03  8.454e+03   0.322\n",
       "modelacadia                                   1.904e+03  7.058e+03   0.270\n",
       "modelaltima                                  -5.846e+03  2.190e+03  -2.669\n",
       "modelarmada                                   7.260e+03  3.743e+03   1.940\n",
       "modelbus                                     -1.393e+04  4.993e+03  -2.789\n",
       "modelcab                                     -8.822e+03  2.751e+03  -3.207\n",
       "modelcamaro                                  -9.760e+02  3.090e+03  -0.316\n",
       "modelcaravan                                 -6.879e+03  1.598e+03  -4.306\n",
       "modelcargo                                   -9.638e+03  4.999e+03  -1.928\n",
       "modelchallenger                               2.047e+03  1.778e+03   1.151\n",
       "modelcharger                                 -1.335e+03  1.812e+03  -0.737\n",
       "modelchassis                                 -1.113e+04  3.761e+03  -2.960\n",
       "modelcherokee                                -8.110e+01  4.551e+03  -0.018\n",
       "modelcolorado                                -8.888e+03  2.372e+03  -3.748\n",
       "modelcompass                                 -4.750e+03  3.593e+03  -1.322\n",
       "modelconnect                                 -1.391e+04  6.924e+03  -2.008\n",
       "modelconvertible                             -1.218e+04  7.032e+03  -1.732\n",
       "modelcorvette                                 2.187e+04  3.593e+03   6.088\n",
       "modelcountry                                  2.960e+03  8.296e+03   0.357\n",
       "modelcoupe                                   -1.187e+04  3.484e+03  -3.408\n",
       "modelcruiser                                         NA         NA      NA\n",
       "modelcruze                                   -2.220e+04  4.951e+03  -4.484\n",
       "modelcutaway                                 -1.222e+04  2.488e+03  -4.910\n",
       "modelcx-3                                    -1.352e+04  9.901e+03  -1.365\n",
       "modeld                                       -1.238e+04  5.053e+03  -2.451\n",
       "modeldart                                    -1.882e+04  6.945e+03  -2.710\n",
       "modeldiscovery                                2.044e+04  8.120e+03   2.517\n",
       "modeldoor                                    -9.785e+03  1.291e+03  -7.580\n",
       "modeldoors                                   -1.029e+04  1.544e+03  -6.668\n",
       "modeldr                                      -8.050e+03  7.885e+03  -1.021\n",
       "modeldrw                                      1.363e+04  2.543e+03   5.361\n",
       "modeldurango                                  4.998e+03  1.682e+03   2.970\n",
       "modele-class                                  3.094e+03  7.958e+03   0.389\n",
       "modelecosport                                -1.435e+04  2.946e+03  -4.870\n",
       "modeledge                                    -6.226e+03  1.787e+03  -3.484\n",
       "modelel                                       2.422e+03  4.158e+03   0.582\n",
       "modelelantra                                 -7.383e+03  7.345e+03  -1.005\n",
       "modelenclave                                 -5.183e+02  5.592e+03  -0.093\n",
       "modelencore                                  -1.568e+04  4.839e+03  -3.241\n",
       "modelenergi                                  -1.960e+04  6.953e+03  -2.819\n",
       "modelequinox                                 -1.127e+04  2.010e+03  -5.606\n",
       "modelescape                                  -1.364e+04  1.725e+03  -7.906\n",
       "modelesv                                     -4.844e+03  7.643e+03  -0.634\n",
       "modelexpedition                               1.363e+04  1.854e+03   7.350\n",
       "modelexplorer                                -1.734e+03  1.719e+03  -1.009\n",
       "modelf-150                                   -1.601e+03  1.402e+03  -1.141\n",
       "modelf-650                                    1.145e+04  4.144e+03   2.763\n",
       "modelf-750                                    1.683e+03  6.989e+03   0.241\n",
       "modelfiesta                                  -1.917e+04  2.283e+03  -8.395\n",
       "modelflex                                    -6.830e+03  1.783e+03  -3.831\n",
       "modelfocus                                   -1.910e+04  2.651e+03  -7.205\n",
       "modelforte                                   -1.415e+04  6.117e+03  -2.313\n",
       "modelfrontier                                -3.400e+03  2.434e+03  -1.397\n",
       "modelfusion                                  -1.390e+04  1.581e+03  -8.795\n",
       "modelghibli                                          NA         NA      NA\n",
       "modelglc                                     -3.016e+03  7.940e+03  -0.380\n",
       "modelgle                                      5.849e+03  6.334e+03   0.923\n",
       "modelgx                                       3.087e+04  9.766e+03   3.161\n",
       "modelhybrid                                  -1.301e+04  3.339e+03  -3.897\n",
       "modelimpala                                  -1.085e+04  2.307e+03  -4.704\n",
       "modeljourney                                 -7.193e+03  1.708e+03  -4.213\n",
       "modeljuke                                    -8.798e+03  7.114e+03  -1.237\n",
       "modelkicks                                   -5.258e+03  6.998e+03  -0.751\n",
       "modelld                                      -6.274e+03  4.307e+03  -1.457\n",
       "modellimited                                  1.440e+03  7.016e+03   0.205\n",
       "modelm                                        2.341e+04  7.492e+03   3.125\n",
       "modelmalibu                                  -1.363e+04  2.266e+03  -6.015\n",
       "modelmax                                      1.514e+04  1.710e+03   8.854\n",
       "modelmaxima                                  -3.380e+03  4.251e+03  -0.795\n",
       "modelmdx                                      8.475e+02  8.433e+03   0.101\n",
       "modelmpv                                     -1.627e+04  1.608e+03 -10.119\n",
       "modelmurano                                   8.932e+02  3.461e+03   0.258\n",
       "modelmustang                                 -4.224e+03  1.842e+03  -2.293\n",
       "modelnautilus                                 2.062e+03  9.829e+03   0.210\n",
       "modelnote                                    -1.370e+04  5.091e+03  -2.691\n",
       "modelnvp                                      7.651e+02  7.093e+03   0.108\n",
       "modelpacifica                                 2.878e+03  4.755e+03   0.605\n",
       "modelpassenger                               -6.705e+03  4.084e+03  -1.642\n",
       "modelpathfinder                              -1.945e+02  2.163e+03  -0.090\n",
       "modelpickup                                  -5.653e+03  2.296e+03  -2.462\n",
       "modelpioneer                                  1.227e+03  9.596e+03   0.128\n",
       "modelpk                                      -1.542e+04  3.375e+03  -4.570\n",
       "modelq5                                      -8.254e+03  8.453e+03  -0.976\n",
       "modelq70                                     -8.619e+03  7.353e+03  -1.172\n",
       "modelranger                                  -9.909e+02  3.098e+03  -0.320\n",
       "modelroad/street                                     NA         NA      NA\n",
       "modelrogue                                   -4.670e+03  1.853e+03  -2.521\n",
       "modelse                                      -1.858e+04  7.055e+03  -2.633\n",
       "modelsedan                                   -1.033e+04  3.767e+03  -2.741\n",
       "modelsentra                                  -1.054e+04  2.060e+03  -5.117\n",
       "modelseries                                   8.573e+03  3.947e+03   2.172\n",
       "modelsl-class                                 5.928e+04  7.945e+03   7.461\n",
       "modelsonic                                   -2.413e+04  4.941e+03  -4.883\n",
       "modelsorento                                 -2.675e+03  4.826e+03  -0.554\n",
       "modelsoul                                    -8.313e+03  7.736e+03  -1.075\n",
       "modelspark                                   -2.015e+04  6.929e+03  -2.909\n",
       "modelsport                                   -6.078e+03  1.964e+03  -3.094\n",
       "modelsportage                                -3.555e+03  7.764e+03  -0.458\n",
       "modelsrw                                      1.422e+04  1.736e+03   8.192\n",
       "modelsrx                                     -1.850e+04  7.375e+03  -2.508\n",
       "modelsuburban                                 7.756e+03  2.130e+03   3.642\n",
       "modelsundance                                 1.746e+04  9.577e+03   1.823\n",
       "modelsuv                                     -8.395e+03  6.930e+03  -1.211\n",
       "modeltahoe                                    1.089e+04  2.562e+03   4.249\n",
       "modeltaurus                                  -1.120e+04  2.549e+03  -4.392\n",
       "modeltitan                                    6.013e+03  3.499e+03   1.719\n",
       "modeltrail                                           NA         NA      NA\n",
       "modeltransit                                 -5.955e+03  1.709e+03  -3.485\n",
       "modeltraverse                                -1.437e+03  3.025e+03  -0.475\n",
       "modeltrax                                    -1.249e+04  2.706e+03  -4.615\n",
       "modeltruck                                           NA         NA      NA\n",
       "modelutility                                 -1.395e+04  6.899e+03  -2.022\n",
       "modelvan                                     -9.339e+03  1.575e+03  -5.929\n",
       "modelvans                                    -6.872e+03  6.451e+03  -1.065\n",
       "modelvehicl                                  -4.382e+04  7.348e+03  -5.963\n",
       "modelversa                                   -1.042e+04  1.989e+03  -5.237\n",
       "modelvolt                                    -1.136e+04  4.954e+03  -2.294\n",
       "modelwagon                                   -3.761e+03  1.826e+03  -2.060\n",
       "modelx3                                      -4.760e+03  5.774e+03  -0.824\n",
       "modelxd                                       1.604e+04  7.009e+03   2.288\n",
       "modelxt5                                     -1.891e+03  7.424e+03  -0.255\n",
       "modelxterra                                  -8.285e+03  7.048e+03  -1.175\n",
       "year                                          1.913e+02  7.278e+01   2.629\n",
       "title_statussalvage insurance                -4.331e+03  7.693e+02  -5.630\n",
       "mileage                                      -3.897e-02  3.803e-03 -10.246\n",
       "colorbillet silver metallic clearcoat         1.000e+04  5.156e+03   1.939\n",
       "colorblack                                    2.921e+03  3.181e+03   0.918\n",
       "colorblack clearcoat                          1.030e+04  5.886e+03   1.750\n",
       "colorblue                                     2.237e+03  3.216e+03   0.696\n",
       "colorbright white clearcoat                   1.388e+04  7.584e+03   1.830\n",
       "colorbrown                                    1.164e+03  3.609e+03   0.322\n",
       "colorburgundy                                 5.830e+03  7.567e+03   0.770\n",
       "colorcayenne red                              2.947e+03  7.324e+03   0.402\n",
       "colorcharcoal                                 2.128e+03  3.626e+03   0.587\n",
       "colorcolor:                                   5.959e+03  4.789e+03   1.244\n",
       "colorcompetition orange                       1.507e+04  7.534e+03   2.000\n",
       "colordark blue                               -1.326e+03  7.568e+03  -0.175\n",
       "colorglacier white                            4.574e+03  1.220e+04   0.375\n",
       "colorgold                                     6.695e+03  3.562e+03   1.880\n",
       "colorgray                                     1.082e+03  3.187e+03   0.339\n",
       "colorgreen                                    6.146e+03  3.489e+03   1.762\n",
       "colorguard                                    1.136e+03  7.552e+03   0.150\n",
       "coloringot silver                             1.199e+04  7.534e+03   1.592\n",
       "coloringot silver metallic                    8.519e+03  4.713e+03   1.808\n",
       "colorjazz blue pearlcoat                      1.222e+04  7.583e+03   1.611\n",
       "colorkona blue metallic                       2.048e+04  7.557e+03   2.711\n",
       "colorlight blue                               1.747e+04  7.930e+03   2.203\n",
       "colorlightning blue                           4.351e+03  7.535e+03   0.577\n",
       "colormagnetic metallic                        9.741e+03  4.299e+03   2.266\n",
       "colormaroon                                   2.215e+03  7.787e+03   0.284\n",
       "colormorningsky blue                         -2.252e+03  8.746e+03  -0.257\n",
       "colorno_color                                 2.782e+03  3.299e+03   0.843\n",
       "coloroff-white                                1.420e+04  5.746e+03   2.471\n",
       "colororange                                   2.330e+03  3.537e+03   0.659\n",
       "coloroxford white                             4.784e+03  4.710e+03   1.016\n",
       "colorpearl white                              4.280e+03  7.662e+03   0.559\n",
       "colorphantom black                            6.637e+03  7.817e+03   0.849\n",
       "colorpurple                                   1.489e+03  7.530e+03   0.198\n",
       "colorred                                      2.932e+03  3.210e+03   0.914\n",
       "colorroyal crimson metallic tinted clearcoat  1.758e+04  7.557e+03   2.327\n",
       "colorruby red                                 1.847e+04  7.559e+03   2.444\n",
       "colorruby red metallic tinted clearcoat       1.434e+04  5.857e+03   2.448\n",
       "colorshadow black                             9.533e+03  4.481e+03   2.127\n",
       "colorsilver                                   1.074e+03  3.191e+03   0.337\n",
       "colorsuper black                              3.931e+03  5.594e+03   0.703\n",
       "colortan                                      3.719e+03  7.547e+03   0.493\n",
       "colortoreador red                             1.508e+04  7.589e+03   1.987\n",
       "colortriple yellow tri-coat                   9.284e+03  5.136e+03   1.808\n",
       "colorturquoise                                1.522e+03  7.760e+03   0.196\n",
       "colortuxedo black metallic                   -7.069e+02  5.941e+03  -0.119\n",
       "colorwhite                                    1.287e+03  3.176e+03   0.405\n",
       "colorwhite platinum tri-coat metallic         4.823e+03  5.806e+03   0.831\n",
       "coloryellow                                   5.467e+03  4.071e+03   1.343\n",
       "statearizona                                 -6.763e+03  2.091e+03  -3.235\n",
       "statearkansas                                -1.099e+04  2.656e+03  -4.136\n",
       "statecalifornia                              -5.869e+03  1.767e+03  -3.320\n",
       "statecolorado                                -8.392e+03  2.292e+03  -3.662\n",
       "stateconnecticut                             -6.553e+03  2.278e+03  -2.877\n",
       "stateflorida                                 -8.087e+03  1.755e+03  -4.608\n",
       "stategeorgia                                 -8.101e+03  1.957e+03  -4.139\n",
       "stateidaho                                   -5.194e+03  5.137e+03  -1.011\n",
       "stateillinois                                -2.450e+03  1.801e+03  -1.360\n",
       "stateindiana                                 -6.632e+02  2.661e+03  -0.249\n",
       "statekansas                                  -1.123e+03  3.902e+03  -0.288\n",
       "statekentucky                                 1.180e+04  2.956e+03   3.994\n",
       "statelouisiana                               -5.040e+03  2.642e+03  -1.907\n",
       "statemaryland                                -5.554e+03  3.884e+03  -1.430\n",
       "statemassachusetts                           -4.638e+03  2.248e+03  -2.063\n",
       "statemichigan                                -3.672e+03  1.783e+03  -2.059\n",
       "stateminnesota                               -4.840e+03  1.818e+03  -2.663\n",
       "statemississippi                             -4.098e+03  2.189e+03  -1.872\n",
       "statemissouri                                -8.577e+03  1.979e+03  -4.334\n",
       "statemontana                                 -3.800e+03  7.081e+03  -0.537\n",
       "statenebraska                                -2.897e+03  3.840e+03  -0.754\n",
       "statenevada                                  -7.925e+03  1.874e+03  -4.229\n",
       "statenew hampshire                           -1.566e+03  4.861e+03  -0.322\n",
       "statenew jersey                              -8.055e+03  1.887e+03  -4.269\n",
       "statenew mexico                              -4.173e+03  3.898e+03  -1.070\n",
       "statenew york                                -7.173e+03  2.041e+03  -3.515\n",
       "statenorth carolina                          -7.058e+03  1.822e+03  -3.874\n",
       "stateohio                                    -3.076e+03  2.172e+03  -1.417\n",
       "stateoklahoma                                -7.267e+03  1.887e+03  -3.851\n",
       "stateontario                                  2.118e+03  3.234e+03   0.655\n",
       "stateoregon                                  -1.287e+04  2.141e+03  -6.010\n",
       "statepennsylvania                            -6.489e+03  1.737e+03  -3.736\n",
       "staterhode island                            -6.521e+03  9.759e+03  -0.668\n",
       "statesouth carolina                          -5.461e+03  1.899e+03  -2.876\n",
       "statetennessee                               -5.230e+03  2.208e+03  -2.368\n",
       "statetexas                                   -8.906e+03  1.748e+03  -5.094\n",
       "stateutah                                    -2.376e+03  2.890e+03  -0.822\n",
       "statevermont                                 -7.933e+03  6.820e+03  -1.163\n",
       "statevirginia                                -5.139e+03  1.868e+03  -2.750\n",
       "statewashington                              -1.017e+03  2.562e+03  -0.397\n",
       "statewest virginia                           -8.003e+03  2.279e+03  -3.512\n",
       "statewisconsin                               -4.008e+03  1.844e+03  -2.174\n",
       "statewyoming                                         NA         NA      NA\n",
       "country usa                                          NA         NA      NA\n",
       "                                             Pr(>|t|)    \n",
       "(Intercept)                                  0.014307 *  \n",
       "brandaudi                                    0.109728    \n",
       "brandbmw                                     0.240974    \n",
       "brandbuick                                   0.065111 .  \n",
       "brandcadillac                                0.007804 ** \n",
       "brandchevrolet                               0.147421    \n",
       "brandchrysler                                0.968950    \n",
       "branddodge                                   0.627530    \n",
       "brandford                                    0.094094 .  \n",
       "brandgmc                                     0.647799    \n",
       "brandharley-davidson                         0.000212 ***\n",
       "brandheartland                               0.032100 *  \n",
       "brandhonda                                   0.806508    \n",
       "brandhyundai                                 0.456499    \n",
       "brandinfiniti                                0.059444 .  \n",
       "brandjaguar                                  0.375855    \n",
       "brandjeep                                    0.842304    \n",
       "brandkia                                     0.969430    \n",
       "brandland                                    0.304597    \n",
       "brandlexus                                   0.522308    \n",
       "brandlincoln                                 0.184020    \n",
       "brandmaserati                                0.200310    \n",
       "brandmazda                                   0.145636    \n",
       "brandmercedes-benz                           0.228380    \n",
       "brandnissan                                  0.780293    \n",
       "brandpeterbilt                               0.011109 *  \n",
       "brandram                                     0.749490    \n",
       "brandtoyota                                  0.788077    \n",
       "model2500                                    0.003523 ** \n",
       "model2500hd                                  0.214436    \n",
       "model300                                     0.781473    \n",
       "model3500                                    0.001102 ** \n",
       "model5                                       0.747568    \n",
       "modelacadia                                  0.787356    \n",
       "modelaltima                                  0.007652 ** \n",
       "modelarmada                                  0.052545 .  \n",
       "modelbus                                     0.005325 ** \n",
       "modelcab                                     0.001360 ** \n",
       "modelcamaro                                  0.752178    \n",
       "modelcaravan                                 1.74e-05 ***\n",
       "modelcargo                                   0.053967 .  \n",
       "modelchallenger                              0.249678    \n",
       "modelcharger                                 0.461419    \n",
       "modelchassis                                 0.003109 ** \n",
       "modelcherokee                                0.985785    \n",
       "modelcolorado                                0.000183 ***\n",
       "modelcompass                                 0.186309    \n",
       "modelconnect                                 0.044731 *  \n",
       "modelconvertible                             0.083476 .  \n",
       "modelcorvette                                1.34e-09 ***\n",
       "modelcountry                                 0.721315    \n",
       "modelcoupe                                   0.000666 ***\n",
       "modelcruiser                                       NA    \n",
       "modelcruze                                   7.69e-06 ***\n",
       "modelcutaway                                 9.77e-07 ***\n",
       "modelcx-3                                    0.172267    \n",
       "modeld                                       0.014318 *  \n",
       "modeldart                                    0.006770 ** \n",
       "modeldiscovery                               0.011901 *  \n",
       "modeldoor                                    5.01e-14 ***\n",
       "modeldoors                                   3.25e-11 ***\n",
       "modeldr                                      0.307398    \n",
       "modeldrw                                     9.14e-08 ***\n",
       "modeldurango                                 0.003005 ** \n",
       "modele-class                                 0.697481    \n",
       "modelecosport                                1.19e-06 ***\n",
       "modeledge                                    0.000504 ***\n",
       "modelel                                      0.560335    \n",
       "modelelantra                                 0.314920    \n",
       "modelenclave                                 0.926163    \n",
       "modelencore                                  0.001210 ** \n",
       "modelenergi                                  0.004861 ** \n",
       "modelequinox                                 2.33e-08 ***\n",
       "modelescape                                  4.13e-15 ***\n",
       "modelesv                                     0.526312    \n",
       "modelexpedition                              2.76e-13 ***\n",
       "modelexplorer                                0.312997    \n",
       "modelf-150                                   0.253793    \n",
       "modelf-650                                   0.005775 ** \n",
       "modelf-750                                   0.809731    \n",
       "modelfiesta                                   < 2e-16 ***\n",
       "modelflex                                    0.000131 ***\n",
       "modelfocus                                   7.90e-13 ***\n",
       "modelforte                                   0.020814 *  \n",
       "modelfrontier                                0.162583    \n",
       "modelfusion                                   < 2e-16 ***\n",
       "modelghibli                                        NA    \n",
       "modelglc                                     0.704086    \n",
       "modelgle                                     0.355891    \n",
       "modelgx                                      0.001594 ** \n",
       "modelhybrid                                  0.000100 ***\n",
       "modelimpala                                  2.71e-06 ***\n",
       "modeljourney                                 2.62e-05 ***\n",
       "modeljuke                                    0.216325    \n",
       "modelkicks                                   0.452493    \n",
       "modelld                                      0.145368    \n",
       "modellimited                                 0.837430    \n",
       "modelm                                       0.001802 ** \n",
       "modelmalibu                                  2.09e-09 ***\n",
       "modelmax                                      < 2e-16 ***\n",
       "modelmaxima                                  0.426705    \n",
       "modelmdx                                     0.919956    \n",
       "modelmpv                                      < 2e-16 ***\n",
       "modelmurano                                  0.796389    \n",
       "modelmustang                                 0.021958 *  \n",
       "modelnautilus                                0.833822    \n",
       "modelnote                                    0.007169 ** \n",
       "modelnvp                                     0.914109    \n",
       "modelpacifica                                0.545153    \n",
       "modelpassenger                               0.100763    \n",
       "modelpathfinder                              0.928379    \n",
       "modelpickup                                  0.013905 *  \n",
       "modelpioneer                                 0.898237    \n",
       "modelpk                                      5.15e-06 ***\n",
       "modelq5                                      0.328933    \n",
       "modelq70                                     0.241255    \n",
       "modelranger                                  0.749122    \n",
       "modelroad/street                                   NA    \n",
       "modelrogue                                   0.011785 *  \n",
       "modelse                                      0.008520 ** \n",
       "modelsedan                                   0.006173 ** \n",
       "modelsentra                                  3.36e-07 ***\n",
       "modelseries                                  0.029955 *  \n",
       "modelsl-class                                1.21e-13 ***\n",
       "modelsonic                                   1.12e-06 ***\n",
       "modelsorento                                 0.579520    \n",
       "modelsoul                                    0.282673    \n",
       "modelspark                                   0.003666 ** \n",
       "modelsport                                   0.001996 ** \n",
       "modelsportage                                0.647080    \n",
       "modelsrw                                     4.24e-16 ***\n",
       "modelsrx                                     0.012219 *  \n",
       "modelsuburban                                0.000276 ***\n",
       "modelsundance                                0.068405 .  \n",
       "modelsuv                                     0.225858    \n",
       "modeltahoe                                   2.24e-05 ***\n",
       "modeltaurus                                  1.17e-05 ***\n",
       "modeltitan                                   0.085826 .  \n",
       "modeltrail                                         NA    \n",
       "modeltransit                                 0.000502 ***\n",
       "modeltraverse                                0.634906    \n",
       "modeltrax                                    4.15e-06 ***\n",
       "modeltruck                                         NA    \n",
       "modelutility                                 0.043289 *  \n",
       "modelvan                                     3.52e-09 ***\n",
       "modelvans                                    0.286937    \n",
       "modelvehicl                                  2.86e-09 ***\n",
       "modelversa                                   1.78e-07 ***\n",
       "modelvolt                                    0.021890 *  \n",
       "modelwagon                                   0.039519 *  \n",
       "modelx3                                      0.409788    \n",
       "modelxd                                      0.022209 *  \n",
       "modelxt5                                     0.798972    \n",
       "modelxterra                                  0.239926    \n",
       "year                                         0.008631 ** \n",
       "title_statussalvage insurance                2.03e-08 ***\n",
       "mileage                                       < 2e-16 ***\n",
       "colorbillet silver metallic clearcoat        0.052571 .  \n",
       "colorblack                                   0.358582    \n",
       "colorblack clearcoat                         0.080210 .  \n",
       "colorblue                                    0.486686    \n",
       "colorbright white clearcoat                  0.067377 .  \n",
       "colorbrown                                   0.747122    \n",
       "colorburgundy                                0.441152    \n",
       "colorcayenne red                             0.687467    \n",
       "colorcharcoal                                0.557411    \n",
       "colorcolor:                                  0.213526    \n",
       "colorcompetition orange                      0.045645 *  \n",
       "colordark blue                               0.860890    \n",
       "colorglacier white                           0.707773    \n",
       "colorgold                                    0.060285 .  \n",
       "colorgray                                    0.734384    \n",
       "colorgreen                                   0.078258 .  \n",
       "colorguard                                   0.880470    \n",
       "coloringot silver                            0.111620    \n",
       "coloringot silver metallic                   0.070796 .  \n",
       "colorjazz blue pearlcoat                     0.107314    \n",
       "colorkona blue metallic                      0.006768 ** \n",
       "colorlight blue                              0.027673 *  \n",
       "colorlightning blue                          0.563748    \n",
       "colormagnetic metallic                       0.023560 *  \n",
       "colormaroon                                  0.776123    \n",
       "colormorningsky blue                         0.796824    \n",
       "colorno_color                                0.399220    \n",
       "coloroff-white                               0.013556 *  \n",
       "colororange                                  0.510087    \n",
       "coloroxford white                            0.309833    \n",
       "colorpearl white                             0.576522    \n",
       "colorphantom black                           0.395956    \n",
       "colorpurple                                  0.843263    \n",
       "colorred                                     0.361073    \n",
       "colorroyal crimson metallic tinted clearcoat 0.020070 *  \n",
       "colorruby red                                0.014609 *  \n",
       "colorruby red metallic tinted clearcoat      0.014450 *  \n",
       "colorshadow black                            0.033496 *  \n",
       "colorsilver                                  0.736494    \n",
       "colorsuper black                             0.482322    \n",
       "colortan                                     0.622156    \n",
       "colortoreador red                            0.047040 *  \n",
       "colortriple yellow tri-coat                  0.070796 .  \n",
       "colorturquoise                               0.844472    \n",
       "colortuxedo black metallic                   0.905301    \n",
       "colorwhite                                   0.685362    \n",
       "colorwhite platinum tri-coat metallic        0.406216    \n",
       "coloryellow                                  0.179460    \n",
       "statearizona                                 0.001235 ** \n",
       "statearkansas                                3.67e-05 ***\n",
       "statecalifornia                              0.000913 ***\n",
       "statecolorado                                0.000256 ***\n",
       "stateconnecticut                             0.004055 ** \n",
       "stateflorida                                 4.29e-06 ***\n",
       "stategeorgia                                 3.62e-05 ***\n",
       "stateidaho                                   0.312043    \n",
       "stateillinois                                0.173874    \n",
       "stateindiana                                 0.803213    \n",
       "statekansas                                  0.773556    \n",
       "statekentucky                                6.72e-05 ***\n",
       "statelouisiana                               0.056614 .  \n",
       "statemaryland                                0.152869    \n",
       "statemassachusetts                           0.039228 *  \n",
       "statemichigan                                0.039564 *  \n",
       "stateminnesota                               0.007803 ** \n",
       "statemississippi                             0.061365 .  \n",
       "statemissouri                                1.53e-05 ***\n",
       "statemontana                                 0.591601    \n",
       "statenebraska                                0.450646    \n",
       "statenevada                                  2.44e-05 ***\n",
       "statenew hampshire                           0.747363    \n",
       "statenew jersey                              2.05e-05 ***\n",
       "statenew mexico                              0.284593    \n",
       "statenew york                                0.000448 ***\n",
       "statenorth carolina                          0.000110 ***\n",
       "stateohio                                    0.156760    \n",
       "stateoklahoma                                0.000121 ***\n",
       "stateontario                                 0.512570    \n",
       "stateoregon                                  2.16e-09 ***\n",
       "statepennsylvania                            0.000191 ***\n",
       "staterhode island                            0.504069    \n",
       "statesouth carolina                          0.004067 ** \n",
       "statetennessee                               0.017954 *  \n",
       "statetexas                                   3.79e-07 ***\n",
       "stateutah                                    0.411022    \n",
       "statevermont                                 0.244876    \n",
       "statevirginia                                0.006000 ** \n",
       "statewashington                              0.691526    \n",
       "statewest virginia                           0.000454 ***\n",
       "statewisconsin                               0.029834 *  \n",
       "statewyoming                                       NA    \n",
       "country usa                                        NA    \n",
       "---\n",
       "Signif. codes:  0 ‘***’ 0.001 ‘**’ 0.01 ‘*’ 0.05 ‘.’ 0.1 ‘ ’ 1\n",
       "\n",
       "Residual standard error: 6771 on 2257 degrees of freedom\n",
       "Multiple R-squared:  0.7055,\tAdjusted R-squared:  0.674 \n",
       "F-statistic: 22.43 on 241 and 2257 DF,  p-value: < 2.2e-16\n"
      ]
     },
     "metadata": {},
     "output_type": "display_data"
    }
   ],
   "source": [
    "# Regression model with all 8 variables as predictors.\n",
    "\n",
    "lm.fit3 <- lm(price ~ ., data = cars)\n",
    "summary(lm.fit3)"
   ]
  },
  {
   "cell_type": "markdown",
   "metadata": {},
   "source": [
    "#### If we include all variables as predictors, then we will obtain a R-Square value of 0.71 which is not bad. The only problem is that the categorical columns has a lot of factors which makes the regression model cumbersome."
   ]
  },
  {
   "cell_type": "code",
   "execution_count": null,
   "metadata": {},
   "outputs": [],
   "source": []
  }
 ],
 "metadata": {
  "kernelspec": {
   "display_name": "R 3.6",
   "language": "R",
   "name": "r-3.6"
  },
  "language_info": {
   "codemirror_mode": "r",
   "file_extension": ".r",
   "mimetype": "text/x-r-source",
   "name": "R",
   "pygments_lexer": "r",
   "version": "3.6.0"
  }
 },
 "nbformat": 4,
 "nbformat_minor": 1
}
